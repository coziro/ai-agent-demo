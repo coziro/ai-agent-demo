{
 "cells": [
  {
   "cell_type": "code",
   "execution_count": null,
   "id": "f7ca8d3f",
   "metadata": {},
   "outputs": [],
   "source": [
    "from langgraph.graph import START, END, StateGraph\n",
    "\n",
    "def hell"
   ]
  },
  {
   "cell_type": "code",
   "execution_count": null,
   "id": "13c7939f",
   "metadata": {},
   "outputs": [],
   "source": []
  },
  {
   "cell_type": "markdown",
   "id": "72ff6c9a",
   "metadata": {},
   "source": [
    "\n",
    "----"
   ]
  },
  {
   "cell_type": "code",
   "execution_count": null,
   "id": "fc274aa2",
   "metadata": {},
   "outputs": [],
   "source": [
    "from langgraph.graph import END, START, MessagesState, StateGraph\n",
    "\n",
    "\n",
    "def hello(state: MessagesState):\n",
    "    return {\"messages\": [{\"role\": \"ai\", \"content\": \"hello\"}]}\n",
    "\n",
    "\n",
    "graph = StateGraph(MessagesState)\n",
    "graph.add_node(hello)\n",
    "graph.add_edge(START, \"hello\")\n",
    "graph.add_edge(\"hello\", END)\n",
    "graph = graph.compile()\n",
    "\n",
    "a = graph.invoke({\"messages\": [{\"role\": \"user\", \"content\": \"hi\"}]})"
   ]
  },
  {
   "cell_type": "code",
   "execution_count": 7,
   "id": "90c13dd0",
   "metadata": {},
   "outputs": [
    {
     "data": {
      "text/plain": [
       "'hi'"
      ]
     },
     "execution_count": 7,
     "metadata": {},
     "output_type": "execute_result"
    }
   ],
   "source": [
    "a[\"messages\"][-1].content"
   ]
  },
  {
   "cell_type": "code",
   "execution_count": 8,
   "id": "cf8405e0",
   "metadata": {},
   "outputs": [
    {
     "data": {
      "text/plain": [
       "{'messages': [HumanMessage(content='hi', additional_kwargs={}, response_metadata={}, id='91024de7-709e-49ec-b6f1-06fc092991cc')]}"
      ]
     },
     "execution_count": 8,
     "metadata": {},
     "output_type": "execute_result"
    }
   ],
   "source": [
    "a"
   ]
  },
  {
   "cell_type": "code",
   "execution_count": 5,
   "id": "60b0cf4d",
   "metadata": {},
   "outputs": [
    {
     "data": {
      "text/plain": [
       "{'messages': [HumanMessage(content='hi', additional_kwargs={}, response_metadata={}, id='1e88ed16-febb-4601-8208-280c742e34ab'),\n",
       "  AIMessage(content='hello', additional_kwargs={}, response_metadata={}, id='27ead064-8b3b-4fa4-8a04-04f65556812e')]}"
      ]
     },
     "execution_count": 5,
     "metadata": {},
     "output_type": "execute_result"
    }
   ],
   "source": [
    "a"
   ]
  },
  {
   "cell_type": "code",
   "execution_count": null,
   "id": "a52f9e50",
   "metadata": {},
   "outputs": [],
   "source": []
  }
 ],
 "metadata": {
  "kernelspec": {
   "display_name": "ai-agent-demo",
   "language": "python",
   "name": "python3"
  },
  "language_info": {
   "codemirror_mode": {
    "name": "ipython",
    "version": 3
   },
   "file_extension": ".py",
   "mimetype": "text/x-python",
   "name": "python",
   "nbconvert_exporter": "python",
   "pygments_lexer": "ipython3",
   "version": "3.12.12"
  }
 },
 "nbformat": 4,
 "nbformat_minor": 5
}
